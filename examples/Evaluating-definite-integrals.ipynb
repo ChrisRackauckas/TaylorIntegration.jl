{
 "cells": [
  {
   "cell_type": "markdown",
   "metadata": {},
   "source": [
    "# Evaluating definite integrals using `TaylorIntegration.jl`"
   ]
  },
  {
   "cell_type": "markdown",
   "metadata": {},
   "source": [
    "The aim of this example is to show that we can evaluate definite integrals of the form \n",
    "\n",
    "$$\n",
    "I(x) = \\int_{x_0}^xf(t)\\mathrm{d} t\n",
    "$$\n",
    "\n",
    "for a large class of differentiable integrand functions $f$, to within machine epsilon precision, using `TaylorIntegration.jl`. The trick is to translate the definite integral problem to an initial value problem for an explicit ODE, thanks to the fundamental theorem of calculus."
   ]
  },
  {
   "cell_type": "markdown",
   "metadata": {},
   "source": [
    "## Error function: $I(x)=\\frac{2}{\\sqrt{\\pi}}\\int_0^x \\exp(-t^2) dt$"
   ]
  },
  {
   "cell_type": "markdown",
   "metadata": {},
   "source": [
    "Here, we want to evaluate the [__error function__](https://en.wikipedia.org/wiki/Error_function), defined by the integral $\\operatorname{erf}(x)=\\frac{2}{\\sqrt{\\pi}}\\int_0^x \\exp(-t^2) dt$ using `TaylorIntegration.jl`. We proceed as follows:\n",
    "\n",
    "First, define a suitable ODE system equivalent to the definite integral problem at hand, and then integrate it. Indeed, by the fundamental theorem of calculus we have\n",
    "\n",
    "$$\n",
    "\\operatorname{erf}'(x) =\\frac{2}{\\sqrt{\\pi}}\\exp(-x^2)\n",
    "$$\n",
    "\n",
    "\n",
    "where the prime $'$ denotes differentiation with respect to $x$. Therefore, we reinterpret $I(x)$ as the solution of the initial value problem defined by the ODE\n",
    "\n",
    "$$\n",
    "\\frac{d\\operatorname{erf}}{dx} = \\frac{2}{\\sqrt{\\pi}}\\exp(-x^2)\n",
    "$$\n",
    "\n",
    "subject to the initial condition $\\operatorname{erf}(0)=0$. We will integrate this ODE in order to evaluate $\\operatorname{erf}(x)$.\n",
    "\n",
    "The only packages that we need to load are:"
   ]
  },
  {
   "cell_type": "code",
   "execution_count": 1,
   "metadata": {
    "scrolled": true
   },
   "outputs": [
    {
     "data": {
      "text/plain": [
       "Plots.GRBackend()"
      ]
     },
     "execution_count": 1,
     "metadata": {},
     "output_type": "execute_result"
    }
   ],
   "source": [
    "using TaylorIntegration, Plots\n",
    "gr()"
   ]
  },
  {
   "cell_type": "markdown",
   "metadata": {},
   "source": [
    "This is the ODE representation of the integral we are interested in (below, `t` is the independent variable):"
   ]
  },
  {
   "cell_type": "code",
   "execution_count": 2,
   "metadata": {},
   "outputs": [
    {
     "data": {
      "text/plain": [
       "f (generic function with 1 method)"
      ]
     },
     "execution_count": 2,
     "metadata": {},
     "output_type": "execute_result"
    }
   ],
   "source": [
    "f(t, x) = (2/sqrt(pi))*exp(-t^2)"
   ]
  },
  {
   "cell_type": "markdown",
   "metadata": {},
   "source": [
    "The parameters we will use for the Taylor integration are:"
   ]
  },
  {
   "cell_type": "code",
   "execution_count": 3,
   "metadata": {},
   "outputs": [
    {
     "data": {
      "text/plain": [
       "1.0e-20"
      ]
     },
     "execution_count": 3,
     "metadata": {},
     "output_type": "execute_result"
    }
   ],
   "source": [
    "x0 = 0.0 #the initial value of the independent variable; in this case, x\n",
    "xmax = 10.0 #the final value of the independent variable; in this case, x\n",
    "erf0 = 0.0 #the initial condition for erf\n",
    "order = 25 #the order of the Taylor expansions\n",
    "abstol = 1e-20 #the absolute local error tolerance"
   ]
  },
  {
   "cell_type": "markdown",
   "metadata": {},
   "source": [
    "The initial conditions are:"
   ]
  },
  {
   "cell_type": "code",
   "execution_count": 4,
   "metadata": {},
   "outputs": [
    {
     "data": {
      "text/plain": [
       "(0.0, 0.0)"
      ]
     },
     "execution_count": 4,
     "metadata": {},
     "output_type": "execute_result"
    }
   ],
   "source": [
    "x0, erf0"
   ]
  },
  {
   "cell_type": "markdown",
   "metadata": {},
   "source": [
    "Then, we proceed to integrate:"
   ]
  },
  {
   "cell_type": "code",
   "execution_count": 5,
   "metadata": {},
   "outputs": [
    {
     "name": "stdout",
     "output_type": "stream",
     "text": [
      "  0.401981 seconds (170.16 k allocations: 9.200 MiB)\n"
     ]
    }
   ],
   "source": [
    "@time xv, erfv = taylorinteg(f, erf0, x0, xmax, order, abstol, maxsteps=5000);"
   ]
  },
  {
   "cell_type": "markdown",
   "metadata": {},
   "source": [
    "The final $x$ and $\\operatorname{erf}$ values are:"
   ]
  },
  {
   "cell_type": "code",
   "execution_count": 6,
   "metadata": {},
   "outputs": [
    {
     "data": {
      "text/plain": [
       "(10.0, 1.0)"
      ]
     },
     "execution_count": 6,
     "metadata": {},
     "output_type": "execute_result"
    }
   ],
   "source": [
    "xv[end], erfv[end]"
   ]
  },
  {
   "cell_type": "markdown",
   "metadata": {},
   "source": [
    "Now, how does $\\operatorname{erf}(x)$ look as a function of $x$?"
   ]
  },
  {
   "cell_type": "code",
   "execution_count": 9,
   "metadata": {},
   "outputs": [
    {
     "data": {
      "text/html": [
       "<?xml version=\"1.0\" encoding=\"utf-8\"?>\n",
       "<svg xmlns=\"http://www.w3.org/2000/svg\" xmlns:xlink=\"http://www.w3.org/1999/xlink\" width=\"600\" height=\"400\" viewBox=\"0 0 600 400\">\n",
       "<defs>\n",
       "  <clipPath id=\"clip00\">\n",
       "    <rect x=\"0\" y=\"0\" width=\"600\" height=\"400\"/>\n",
       "  </clipPath>\n",
       "</defs>\n",
       "<polygon clip-path=\"url(#clip0600)\" points=\"\n",
       "0,400 600,400 600,0 0,0 \n",
       "  \" fill=\"#ffffff\" fill-opacity=\"1\"/>\n",
       "<defs>\n",
       "  <clipPath id=\"clip01\">\n",
       "    <rect x=\"120\" y=\"0\" width=\"421\" height=\"400\"/>\n",
       "  </clipPath>\n",
       "</defs>\n",
       "<polygon clip-path=\"url(#clip0600)\" points=\"\n",
       "54.5598,360.065 580.315,360.065 580.315,31.4961 54.5598,31.4961 \n",
       "  \" fill=\"#ffffff\" fill-opacity=\"1\"/>\n",
       "<defs>\n",
       "  <clipPath id=\"clip02\">\n",
       "    <rect x=\"54\" y=\"31\" width=\"527\" height=\"330\"/>\n",
       "  </clipPath>\n",
       "</defs>\n",
       "<polyline clip-path=\"url(#clip0602)\" style=\"stroke:#000000; stroke-width:0.5; stroke-opacity:0.1; fill:none\" points=\"\n",
       "  69.4396,355.137 69.4396,36.4246 \n",
       "  \"/>\n",
       "<polyline clip-path=\"url(#clip0602)\" style=\"stroke:#000000; stroke-width:0.5; stroke-opacity:0.1; fill:none\" points=\"\n",
       "  193.438,355.137 193.438,36.4246 \n",
       "  \"/>\n",
       "<polyline clip-path=\"url(#clip0602)\" style=\"stroke:#000000; stroke-width:0.5; stroke-opacity:0.1; fill:none\" points=\"\n",
       "  317.437,355.137 317.437,36.4246 \n",
       "  \"/>\n",
       "<polyline clip-path=\"url(#clip0602)\" style=\"stroke:#000000; stroke-width:0.5; stroke-opacity:0.1; fill:none\" points=\"\n",
       "  441.436,355.137 441.436,36.4246 \n",
       "  \"/>\n",
       "<polyline clip-path=\"url(#clip0602)\" style=\"stroke:#000000; stroke-width:0.5; stroke-opacity:0.1; fill:none\" points=\"\n",
       "  565.435,355.137 565.435,36.4246 \n",
       "  \"/>\n",
       "<polyline clip-path=\"url(#clip0602)\" style=\"stroke:#000000; stroke-width:0.5; stroke-opacity:0.1; fill:none\" points=\"\n",
       "  62.4461,350.766 572.429,350.766 \n",
       "  \"/>\n",
       "<polyline clip-path=\"url(#clip0602)\" style=\"stroke:#000000; stroke-width:0.5; stroke-opacity:0.1; fill:none\" points=\"\n",
       "  62.4461,273.274 572.429,273.274 \n",
       "  \"/>\n",
       "<polyline clip-path=\"url(#clip0602)\" style=\"stroke:#000000; stroke-width:0.5; stroke-opacity:0.1; fill:none\" points=\"\n",
       "  62.4461,195.781 572.429,195.781 \n",
       "  \"/>\n",
       "<polyline clip-path=\"url(#clip0602)\" style=\"stroke:#000000; stroke-width:0.5; stroke-opacity:0.1; fill:none\" points=\"\n",
       "  62.4461,118.288 572.429,118.288 \n",
       "  \"/>\n",
       "<polyline clip-path=\"url(#clip0602)\" style=\"stroke:#000000; stroke-width:0.5; stroke-opacity:0.1; fill:none\" points=\"\n",
       "  62.4461,40.7952 572.429,40.7952 \n",
       "  \"/>\n",
       "<polyline clip-path=\"url(#clip0600)\" style=\"stroke:#000000; stroke-width:1; stroke-opacity:1; fill:none\" points=\"\n",
       "  54.5598,360.065 580.315,360.065 \n",
       "  \"/>\n",
       "<polyline clip-path=\"url(#clip0600)\" style=\"stroke:#000000; stroke-width:1; stroke-opacity:1; fill:none\" points=\"\n",
       "  54.5598,360.065 54.5598,31.4961 \n",
       "  \"/>\n",
       "<polyline clip-path=\"url(#clip0600)\" style=\"stroke:#000000; stroke-width:1; stroke-opacity:1; fill:none\" points=\"\n",
       "  69.4396,360.065 69.4396,355.137 \n",
       "  \"/>\n",
       "<polyline clip-path=\"url(#clip0600)\" style=\"stroke:#000000; stroke-width:1; stroke-opacity:1; fill:none\" points=\"\n",
       "  193.438,360.065 193.438,355.137 \n",
       "  \"/>\n",
       "<polyline clip-path=\"url(#clip0600)\" style=\"stroke:#000000; stroke-width:1; stroke-opacity:1; fill:none\" points=\"\n",
       "  317.437,360.065 317.437,355.137 \n",
       "  \"/>\n",
       "<polyline clip-path=\"url(#clip0600)\" style=\"stroke:#000000; stroke-width:1; stroke-opacity:1; fill:none\" points=\"\n",
       "  441.436,360.065 441.436,355.137 \n",
       "  \"/>\n",
       "<polyline clip-path=\"url(#clip0600)\" style=\"stroke:#000000; stroke-width:1; stroke-opacity:1; fill:none\" points=\"\n",
       "  565.435,360.065 565.435,355.137 \n",
       "  \"/>\n",
       "<polyline clip-path=\"url(#clip0600)\" style=\"stroke:#000000; stroke-width:1; stroke-opacity:1; fill:none\" points=\"\n",
       "  54.5598,350.766 62.4461,350.766 \n",
       "  \"/>\n",
       "<polyline clip-path=\"url(#clip0600)\" style=\"stroke:#000000; stroke-width:1; stroke-opacity:1; fill:none\" points=\"\n",
       "  54.5598,273.274 62.4461,273.274 \n",
       "  \"/>\n",
       "<polyline clip-path=\"url(#clip0600)\" style=\"stroke:#000000; stroke-width:1; stroke-opacity:1; fill:none\" points=\"\n",
       "  54.5598,195.781 62.4461,195.781 \n",
       "  \"/>\n",
       "<polyline clip-path=\"url(#clip0600)\" style=\"stroke:#000000; stroke-width:1; stroke-opacity:1; fill:none\" points=\"\n",
       "  54.5598,118.288 62.4461,118.288 \n",
       "  \"/>\n",
       "<polyline clip-path=\"url(#clip0600)\" style=\"stroke:#000000; stroke-width:1; stroke-opacity:1; fill:none\" points=\"\n",
       "  54.5598,40.7952 62.4461,40.7952 \n",
       "  \"/>\n",
       "<g clip-path=\"url(#clip0600)\">\n",
       "<text style=\"fill:#000000; fill-opacity:1; font-family:Arial,Helvetica Neue,Helvetica,sans-serif; font-size:12; text-anchor:middle;\" transform=\"rotate(0, 69.4396, 373.865)\" x=\"69.4396\" y=\"373.865\">0.0</text>\n",
       "</g>\n",
       "<g clip-path=\"url(#clip0600)\">\n",
       "<text style=\"fill:#000000; fill-opacity:1; font-family:Arial,Helvetica Neue,Helvetica,sans-serif; font-size:12; text-anchor:middle;\" transform=\"rotate(0, 193.438, 373.865)\" x=\"193.438\" y=\"373.865\">2.5</text>\n",
       "</g>\n",
       "<g clip-path=\"url(#clip0600)\">\n",
       "<text style=\"fill:#000000; fill-opacity:1; font-family:Arial,Helvetica Neue,Helvetica,sans-serif; font-size:12; text-anchor:middle;\" transform=\"rotate(0, 317.437, 373.865)\" x=\"317.437\" y=\"373.865\">5.0</text>\n",
       "</g>\n",
       "<g clip-path=\"url(#clip0600)\">\n",
       "<text style=\"fill:#000000; fill-opacity:1; font-family:Arial,Helvetica Neue,Helvetica,sans-serif; font-size:12; text-anchor:middle;\" transform=\"rotate(0, 441.436, 373.865)\" x=\"441.436\" y=\"373.865\">7.5</text>\n",
       "</g>\n",
       "<g clip-path=\"url(#clip0600)\">\n",
       "<text style=\"fill:#000000; fill-opacity:1; font-family:Arial,Helvetica Neue,Helvetica,sans-serif; font-size:12; text-anchor:middle;\" transform=\"rotate(0, 565.435, 373.865)\" x=\"565.435\" y=\"373.865\">10.0</text>\n",
       "</g>\n",
       "<g clip-path=\"url(#clip0600)\">\n",
       "<text style=\"fill:#000000; fill-opacity:1; font-family:Arial,Helvetica Neue,Helvetica,sans-serif; font-size:12; text-anchor:end;\" transform=\"rotate(0, 48.5598, 355.266)\" x=\"48.5598\" y=\"355.266\">0.00</text>\n",
       "</g>\n",
       "<g clip-path=\"url(#clip0600)\">\n",
       "<text style=\"fill:#000000; fill-opacity:1; font-family:Arial,Helvetica Neue,Helvetica,sans-serif; font-size:12; text-anchor:end;\" transform=\"rotate(0, 48.5598, 277.774)\" x=\"48.5598\" y=\"277.774\">0.25</text>\n",
       "</g>\n",
       "<g clip-path=\"url(#clip0600)\">\n",
       "<text style=\"fill:#000000; fill-opacity:1; font-family:Arial,Helvetica Neue,Helvetica,sans-serif; font-size:12; text-anchor:end;\" transform=\"rotate(0, 48.5598, 200.281)\" x=\"48.5598\" y=\"200.281\">0.50</text>\n",
       "</g>\n",
       "<g clip-path=\"url(#clip0600)\">\n",
       "<text style=\"fill:#000000; fill-opacity:1; font-family:Arial,Helvetica Neue,Helvetica,sans-serif; font-size:12; text-anchor:end;\" transform=\"rotate(0, 48.5598, 122.788)\" x=\"48.5598\" y=\"122.788\">0.75</text>\n",
       "</g>\n",
       "<g clip-path=\"url(#clip0600)\">\n",
       "<text style=\"fill:#000000; fill-opacity:1; font-family:Arial,Helvetica Neue,Helvetica,sans-serif; font-size:12; text-anchor:end;\" transform=\"rotate(0, 48.5598, 45.2952)\" x=\"48.5598\" y=\"45.2952\">1.00</text>\n",
       "</g>\n",
       "<g clip-path=\"url(#clip0600)\">\n",
       "<text style=\"fill:#000000; fill-opacity:1; font-family:Arial,Helvetica Neue,Helvetica,sans-serif; font-size:21; text-anchor:middle;\" transform=\"rotate(0, 317.437, 18)\" x=\"317.437\" y=\"18\">Evaluating erf(x) using TaylorIntegration</text>\n",
       "</g>\n",
       "<g clip-path=\"url(#clip0600)\">\n",
       "<text style=\"fill:#000000; fill-opacity:1; font-family:Arial,Helvetica Neue,Helvetica,sans-serif; font-size:16; text-anchor:middle;\" transform=\"rotate(0, 317.437, 397.6)\" x=\"317.437\" y=\"397.6\">x</text>\n",
       "</g>\n",
       "<g clip-path=\"url(#clip0600)\">\n",
       "<text style=\"fill:#000000; fill-opacity:1; font-family:Arial,Helvetica Neue,Helvetica,sans-serif; font-size:16; text-anchor:middle;\" transform=\"rotate(-90, 14.4, 195.781)\" x=\"14.4\" y=\"195.781\">erf(x)</text>\n",
       "</g>\n",
       "<polyline clip-path=\"url(#clip0602)\" style=\"stroke:#009af9; stroke-width:1; stroke-opacity:1; fill:none\" points=\"\n",
       "  69.4396,350.766 89.2326,218.259 108.055,124.763 126.486,72.9809 145.035,50.4444 164.14,42.9435 184.477,41.1169 206.516,40.824 228.431,40.797 251.007,40.7953 \n",
       "  274.829,40.7952 300.519,40.7952 328.904,40.7952 361.329,40.7952 401.623,40.7952 447.003,40.7952 512.647,40.7952 565.435,40.7952 \n",
       "  \"/>\n",
       "<circle clip-path=\"url(#clip0602)\" style=\"fill:#000000; stroke:none; fill-opacity:1\" cx=\"69.4396\" cy=\"350.766\" r=\"3\"/>\n",
       "<circle clip-path=\"url(#clip0602)\" style=\"fill:#e26f46; stroke:none; fill-opacity:1\" cx=\"69.4396\" cy=\"350.766\" r=\"2\"/>\n",
       "<circle clip-path=\"url(#clip0602)\" style=\"fill:#000000; stroke:none; fill-opacity:1\" cx=\"89.2326\" cy=\"218.259\" r=\"3\"/>\n",
       "<circle clip-path=\"url(#clip0602)\" style=\"fill:#e26f46; stroke:none; fill-opacity:1\" cx=\"89.2326\" cy=\"218.259\" r=\"2\"/>\n",
       "<circle clip-path=\"url(#clip0602)\" style=\"fill:#000000; stroke:none; fill-opacity:1\" cx=\"108.055\" cy=\"124.763\" r=\"3\"/>\n",
       "<circle clip-path=\"url(#clip0602)\" style=\"fill:#e26f46; stroke:none; fill-opacity:1\" cx=\"108.055\" cy=\"124.763\" r=\"2\"/>\n",
       "<circle clip-path=\"url(#clip0602)\" style=\"fill:#000000; stroke:none; fill-opacity:1\" cx=\"126.486\" cy=\"72.9809\" r=\"3\"/>\n",
       "<circle clip-path=\"url(#clip0602)\" style=\"fill:#e26f46; stroke:none; fill-opacity:1\" cx=\"126.486\" cy=\"72.9809\" r=\"2\"/>\n",
       "<circle clip-path=\"url(#clip0602)\" style=\"fill:#000000; stroke:none; fill-opacity:1\" cx=\"145.035\" cy=\"50.4444\" r=\"3\"/>\n",
       "<circle clip-path=\"url(#clip0602)\" style=\"fill:#e26f46; stroke:none; fill-opacity:1\" cx=\"145.035\" cy=\"50.4444\" r=\"2\"/>\n",
       "<circle clip-path=\"url(#clip0602)\" style=\"fill:#000000; stroke:none; fill-opacity:1\" cx=\"164.14\" cy=\"42.9435\" r=\"3\"/>\n",
       "<circle clip-path=\"url(#clip0602)\" style=\"fill:#e26f46; stroke:none; fill-opacity:1\" cx=\"164.14\" cy=\"42.9435\" r=\"2\"/>\n",
       "<circle clip-path=\"url(#clip0602)\" style=\"fill:#000000; stroke:none; fill-opacity:1\" cx=\"184.477\" cy=\"41.1169\" r=\"3\"/>\n",
       "<circle clip-path=\"url(#clip0602)\" style=\"fill:#e26f46; stroke:none; fill-opacity:1\" cx=\"184.477\" cy=\"41.1169\" r=\"2\"/>\n",
       "<circle clip-path=\"url(#clip0602)\" style=\"fill:#000000; stroke:none; fill-opacity:1\" cx=\"206.516\" cy=\"40.824\" r=\"3\"/>\n",
       "<circle clip-path=\"url(#clip0602)\" style=\"fill:#e26f46; stroke:none; fill-opacity:1\" cx=\"206.516\" cy=\"40.824\" r=\"2\"/>\n",
       "<circle clip-path=\"url(#clip0602)\" style=\"fill:#000000; stroke:none; fill-opacity:1\" cx=\"228.431\" cy=\"40.797\" r=\"3\"/>\n",
       "<circle clip-path=\"url(#clip0602)\" style=\"fill:#e26f46; stroke:none; fill-opacity:1\" cx=\"228.431\" cy=\"40.797\" r=\"2\"/>\n",
       "<circle clip-path=\"url(#clip0602)\" style=\"fill:#000000; stroke:none; fill-opacity:1\" cx=\"251.007\" cy=\"40.7953\" r=\"3\"/>\n",
       "<circle clip-path=\"url(#clip0602)\" style=\"fill:#e26f46; stroke:none; fill-opacity:1\" cx=\"251.007\" cy=\"40.7953\" r=\"2\"/>\n",
       "<circle clip-path=\"url(#clip0602)\" style=\"fill:#000000; stroke:none; fill-opacity:1\" cx=\"274.829\" cy=\"40.7952\" r=\"3\"/>\n",
       "<circle clip-path=\"url(#clip0602)\" style=\"fill:#e26f46; stroke:none; fill-opacity:1\" cx=\"274.829\" cy=\"40.7952\" r=\"2\"/>\n",
       "<circle clip-path=\"url(#clip0602)\" style=\"fill:#000000; stroke:none; fill-opacity:1\" cx=\"300.519\" cy=\"40.7952\" r=\"3\"/>\n",
       "<circle clip-path=\"url(#clip0602)\" style=\"fill:#e26f46; stroke:none; fill-opacity:1\" cx=\"300.519\" cy=\"40.7952\" r=\"2\"/>\n",
       "<circle clip-path=\"url(#clip0602)\" style=\"fill:#000000; stroke:none; fill-opacity:1\" cx=\"328.904\" cy=\"40.7952\" r=\"3\"/>\n",
       "<circle clip-path=\"url(#clip0602)\" style=\"fill:#e26f46; stroke:none; fill-opacity:1\" cx=\"328.904\" cy=\"40.7952\" r=\"2\"/>\n",
       "<circle clip-path=\"url(#clip0602)\" style=\"fill:#000000; stroke:none; fill-opacity:1\" cx=\"361.329\" cy=\"40.7952\" r=\"3\"/>\n",
       "<circle clip-path=\"url(#clip0602)\" style=\"fill:#e26f46; stroke:none; fill-opacity:1\" cx=\"361.329\" cy=\"40.7952\" r=\"2\"/>\n",
       "<circle clip-path=\"url(#clip0602)\" style=\"fill:#000000; stroke:none; fill-opacity:1\" cx=\"401.623\" cy=\"40.7952\" r=\"3\"/>\n",
       "<circle clip-path=\"url(#clip0602)\" style=\"fill:#e26f46; stroke:none; fill-opacity:1\" cx=\"401.623\" cy=\"40.7952\" r=\"2\"/>\n",
       "<circle clip-path=\"url(#clip0602)\" style=\"fill:#000000; stroke:none; fill-opacity:1\" cx=\"447.003\" cy=\"40.7952\" r=\"3\"/>\n",
       "<circle clip-path=\"url(#clip0602)\" style=\"fill:#e26f46; stroke:none; fill-opacity:1\" cx=\"447.003\" cy=\"40.7952\" r=\"2\"/>\n",
       "<circle clip-path=\"url(#clip0602)\" style=\"fill:#000000; stroke:none; fill-opacity:1\" cx=\"512.647\" cy=\"40.7952\" r=\"3\"/>\n",
       "<circle clip-path=\"url(#clip0602)\" style=\"fill:#e26f46; stroke:none; fill-opacity:1\" cx=\"512.647\" cy=\"40.7952\" r=\"2\"/>\n",
       "<circle clip-path=\"url(#clip0602)\" style=\"fill:#000000; stroke:none; fill-opacity:1\" cx=\"565.435\" cy=\"40.7952\" r=\"3\"/>\n",
       "<circle clip-path=\"url(#clip0602)\" style=\"fill:#e26f46; stroke:none; fill-opacity:1\" cx=\"565.435\" cy=\"40.7952\" r=\"2\"/>\n",
       "<polygon clip-path=\"url(#clip0600)\" points=\"\n",
       "489.799,97.7361 562.315,97.7361 562.315,52.3761 489.799,52.3761 \n",
       "  \" fill=\"#ffffff\" fill-opacity=\"1\"/>\n",
       "<polyline clip-path=\"url(#clip0600)\" style=\"stroke:#000000; stroke-width:1; stroke-opacity:1; fill:none\" points=\"\n",
       "  489.799,97.7361 562.315,97.7361 562.315,52.3761 489.799,52.3761 489.799,97.7361 \n",
       "  \"/>\n",
       "<polyline clip-path=\"url(#clip0600)\" style=\"stroke:#009af9; stroke-width:1; stroke-opacity:1; fill:none\" points=\"\n",
       "  495.799,67.4961 531.799,67.4961 \n",
       "  \"/>\n",
       "<g clip-path=\"url(#clip0600)\">\n",
       "<text style=\"fill:#000000; fill-opacity:1; font-family:Arial,Helvetica Neue,Helvetica,sans-serif; font-size:12; text-anchor:start;\" transform=\"rotate(0, 537.799, 71.9961)\" x=\"537.799\" y=\"71.9961\">y1</text>\n",
       "</g>\n",
       "<circle clip-path=\"url(#clip0600)\" style=\"fill:#000000; stroke:none; fill-opacity:1\" cx=\"516.799\" cy=\"82.6161\" r=\"6\"/>\n",
       "<circle clip-path=\"url(#clip0600)\" style=\"fill:#e26f46; stroke:none; fill-opacity:1\" cx=\"516.799\" cy=\"82.6161\" r=\"5\"/>\n",
       "<g clip-path=\"url(#clip0600)\">\n",
       "<text style=\"fill:#000000; fill-opacity:1; font-family:Arial,Helvetica Neue,Helvetica,sans-serif; font-size:12; text-anchor:start;\" transform=\"rotate(0, 537.799, 87.1161)\" x=\"537.799\" y=\"87.1161\">y2</text>\n",
       "</g>\n",
       "</svg>\n"
      ]
     },
     "execution_count": 9,
     "metadata": {},
     "output_type": "execute_result"
    }
   ],
   "source": [
    "plot(xv, erfv)\n",
    "scatter!(xv, erfv, ms=3.0)\n",
    "\n",
    "xlabel!(\"x\")\n",
    "ylabel!(\"erf(x)\")\n",
    "title!(\"Evaluating erf(x) using TaylorIntegration\")"
   ]
  },
  {
   "cell_type": "markdown",
   "metadata": {
    "collapsed": true
   },
   "source": [
    "At a first glance, thsi looks great! But, how do these values actually compare to Julia's `Base.erf`?"
   ]
  },
  {
   "cell_type": "code",
   "execution_count": 13,
   "metadata": {},
   "outputs": [
    {
     "data": {
      "text/markdown": [
       "```\n",
       "erf(x)\n",
       "```\n",
       "\n",
       "Compute the error function of `x`, defined by $\\frac{2}{\\sqrt{\\pi}} \\int_0^x e^{-t^2} dt$ for arbitrary complex `x`.\n"
      ],
      "text/plain": [
       "```\n",
       "erf(x)\n",
       "```\n",
       "\n",
       "Compute the error function of `x`, defined by $\\frac{2}{\\sqrt{\\pi}} \\int_0^x e^{-t^2} dt$ for arbitrary complex `x`.\n"
      ]
     },
     "execution_count": 13,
     "metadata": {},
     "output_type": "execute_result"
    }
   ],
   "source": [
    "?Base.erf"
   ]
  },
  {
   "cell_type": "markdown",
   "metadata": {},
   "source": [
    "Well, let's plot the absolute difference between our integrated values for $\\operatorname{erf}(x)$ and `Base.erf`, in units of the machine epsilon, as a function of $x$:"
   ]
  },
  {
   "cell_type": "code",
   "execution_count": 14,
   "metadata": {},
   "outputs": [
    {
     "data": {
      "text/html": [
       "<?xml version=\"1.0\" encoding=\"utf-8\"?>\n",
       "<svg xmlns=\"http://www.w3.org/2000/svg\" xmlns:xlink=\"http://www.w3.org/1999/xlink\" width=\"600\" height=\"400\" viewBox=\"0 0 600 400\">\n",
       "<defs>\n",
       "  <clipPath id=\"clip00\">\n",
       "    <rect x=\"0\" y=\"0\" width=\"600\" height=\"400\"/>\n",
       "  </clipPath>\n",
       "</defs>\n",
       "<polygon clip-path=\"url(#clip1000)\" points=\"\n",
       "0,400 600,400 600,0 0,0 \n",
       "  \" fill=\"#ffffff\" fill-opacity=\"1\"/>\n",
       "<defs>\n",
       "  <clipPath id=\"clip01\">\n",
       "    <rect x=\"120\" y=\"0\" width=\"421\" height=\"400\"/>\n",
       "  </clipPath>\n",
       "</defs>\n",
       "<polygon clip-path=\"url(#clip1000)\" points=\"\n",
       "47.9701,360.065 580.315,360.065 580.315,31.4961 47.9701,31.4961 \n",
       "  \" fill=\"#ffffff\" fill-opacity=\"1\"/>\n",
       "<defs>\n",
       "  <clipPath id=\"clip02\">\n",
       "    <rect x=\"47\" y=\"31\" width=\"533\" height=\"330\"/>\n",
       "  </clipPath>\n",
       "</defs>\n",
       "<polyline clip-path=\"url(#clip1002)\" style=\"stroke:#000000; stroke-width:0.5; stroke-opacity:0.1; fill:none\" points=\"\n",
       "  63.0365,355.137 63.0365,36.4246 \n",
       "  \"/>\n",
       "<polyline clip-path=\"url(#clip1002)\" style=\"stroke:#000000; stroke-width:0.5; stroke-opacity:0.1; fill:none\" points=\"\n",
       "  188.59,355.137 188.59,36.4246 \n",
       "  \"/>\n",
       "<polyline clip-path=\"url(#clip1002)\" style=\"stroke:#000000; stroke-width:0.5; stroke-opacity:0.1; fill:none\" points=\"\n",
       "  314.143,355.137 314.143,36.4246 \n",
       "  \"/>\n",
       "<polyline clip-path=\"url(#clip1002)\" style=\"stroke:#000000; stroke-width:0.5; stroke-opacity:0.1; fill:none\" points=\"\n",
       "  439.696,355.137 439.696,36.4246 \n",
       "  \"/>\n",
       "<polyline clip-path=\"url(#clip1002)\" style=\"stroke:#000000; stroke-width:0.5; stroke-opacity:0.1; fill:none\" points=\"\n",
       "  565.249,355.137 565.249,36.4246 \n",
       "  \"/>\n",
       "<polyline clip-path=\"url(#clip1002)\" style=\"stroke:#000000; stroke-width:0.5; stroke-opacity:0.1; fill:none\" points=\"\n",
       "  55.9553,350.766 572.33,350.766 \n",
       "  \"/>\n",
       "<polyline clip-path=\"url(#clip1002)\" style=\"stroke:#000000; stroke-width:0.5; stroke-opacity:0.1; fill:none\" points=\"\n",
       "  55.9553,288.772 572.33,288.772 \n",
       "  \"/>\n",
       "<polyline clip-path=\"url(#clip1002)\" style=\"stroke:#000000; stroke-width:0.5; stroke-opacity:0.1; fill:none\" points=\"\n",
       "  55.9553,226.778 572.33,226.778 \n",
       "  \"/>\n",
       "<polyline clip-path=\"url(#clip1002)\" style=\"stroke:#000000; stroke-width:0.5; stroke-opacity:0.1; fill:none\" points=\"\n",
       "  55.9553,164.784 572.33,164.784 \n",
       "  \"/>\n",
       "<polyline clip-path=\"url(#clip1002)\" style=\"stroke:#000000; stroke-width:0.5; stroke-opacity:0.1; fill:none\" points=\"\n",
       "  55.9553,102.789 572.33,102.789 \n",
       "  \"/>\n",
       "<polyline clip-path=\"url(#clip1002)\" style=\"stroke:#000000; stroke-width:0.5; stroke-opacity:0.1; fill:none\" points=\"\n",
       "  55.9553,40.7952 572.33,40.7952 \n",
       "  \"/>\n",
       "<polyline clip-path=\"url(#clip1000)\" style=\"stroke:#000000; stroke-width:1; stroke-opacity:1; fill:none\" points=\"\n",
       "  47.9701,360.065 580.315,360.065 \n",
       "  \"/>\n",
       "<polyline clip-path=\"url(#clip1000)\" style=\"stroke:#000000; stroke-width:1; stroke-opacity:1; fill:none\" points=\"\n",
       "  47.9701,360.065 47.9701,31.4961 \n",
       "  \"/>\n",
       "<polyline clip-path=\"url(#clip1000)\" style=\"stroke:#000000; stroke-width:1; stroke-opacity:1; fill:none\" points=\"\n",
       "  63.0365,360.065 63.0365,355.137 \n",
       "  \"/>\n",
       "<polyline clip-path=\"url(#clip1000)\" style=\"stroke:#000000; stroke-width:1; stroke-opacity:1; fill:none\" points=\"\n",
       "  188.59,360.065 188.59,355.137 \n",
       "  \"/>\n",
       "<polyline clip-path=\"url(#clip1000)\" style=\"stroke:#000000; stroke-width:1; stroke-opacity:1; fill:none\" points=\"\n",
       "  314.143,360.065 314.143,355.137 \n",
       "  \"/>\n",
       "<polyline clip-path=\"url(#clip1000)\" style=\"stroke:#000000; stroke-width:1; stroke-opacity:1; fill:none\" points=\"\n",
       "  439.696,360.065 439.696,355.137 \n",
       "  \"/>\n",
       "<polyline clip-path=\"url(#clip1000)\" style=\"stroke:#000000; stroke-width:1; stroke-opacity:1; fill:none\" points=\"\n",
       "  565.249,360.065 565.249,355.137 \n",
       "  \"/>\n",
       "<polyline clip-path=\"url(#clip1000)\" style=\"stroke:#000000; stroke-width:1; stroke-opacity:1; fill:none\" points=\"\n",
       "  47.9701,350.766 55.9553,350.766 \n",
       "  \"/>\n",
       "<polyline clip-path=\"url(#clip1000)\" style=\"stroke:#000000; stroke-width:1; stroke-opacity:1; fill:none\" points=\"\n",
       "  47.9701,288.772 55.9553,288.772 \n",
       "  \"/>\n",
       "<polyline clip-path=\"url(#clip1000)\" style=\"stroke:#000000; stroke-width:1; stroke-opacity:1; fill:none\" points=\"\n",
       "  47.9701,226.778 55.9553,226.778 \n",
       "  \"/>\n",
       "<polyline clip-path=\"url(#clip1000)\" style=\"stroke:#000000; stroke-width:1; stroke-opacity:1; fill:none\" points=\"\n",
       "  47.9701,164.784 55.9553,164.784 \n",
       "  \"/>\n",
       "<polyline clip-path=\"url(#clip1000)\" style=\"stroke:#000000; stroke-width:1; stroke-opacity:1; fill:none\" points=\"\n",
       "  47.9701,102.789 55.9553,102.789 \n",
       "  \"/>\n",
       "<polyline clip-path=\"url(#clip1000)\" style=\"stroke:#000000; stroke-width:1; stroke-opacity:1; fill:none\" points=\"\n",
       "  47.9701,40.7952 55.9553,40.7952 \n",
       "  \"/>\n",
       "<g clip-path=\"url(#clip1000)\">\n",
       "<text style=\"fill:#000000; fill-opacity:1; font-family:Arial,Helvetica Neue,Helvetica,sans-serif; font-size:12; text-anchor:middle;\" transform=\"rotate(0, 63.0365, 373.865)\" x=\"63.0365\" y=\"373.865\">0.0</text>\n",
       "</g>\n",
       "<g clip-path=\"url(#clip1000)\">\n",
       "<text style=\"fill:#000000; fill-opacity:1; font-family:Arial,Helvetica Neue,Helvetica,sans-serif; font-size:12; text-anchor:middle;\" transform=\"rotate(0, 188.59, 373.865)\" x=\"188.59\" y=\"373.865\">2.5</text>\n",
       "</g>\n",
       "<g clip-path=\"url(#clip1000)\">\n",
       "<text style=\"fill:#000000; fill-opacity:1; font-family:Arial,Helvetica Neue,Helvetica,sans-serif; font-size:12; text-anchor:middle;\" transform=\"rotate(0, 314.143, 373.865)\" x=\"314.143\" y=\"373.865\">5.0</text>\n",
       "</g>\n",
       "<g clip-path=\"url(#clip1000)\">\n",
       "<text style=\"fill:#000000; fill-opacity:1; font-family:Arial,Helvetica Neue,Helvetica,sans-serif; font-size:12; text-anchor:middle;\" transform=\"rotate(0, 439.696, 373.865)\" x=\"439.696\" y=\"373.865\">7.5</text>\n",
       "</g>\n",
       "<g clip-path=\"url(#clip1000)\">\n",
       "<text style=\"fill:#000000; fill-opacity:1; font-family:Arial,Helvetica Neue,Helvetica,sans-serif; font-size:12; text-anchor:middle;\" transform=\"rotate(0, 565.249, 373.865)\" x=\"565.249\" y=\"373.865\">10.0</text>\n",
       "</g>\n",
       "<g clip-path=\"url(#clip1000)\">\n",
       "<text style=\"fill:#000000; fill-opacity:1; font-family:Arial,Helvetica Neue,Helvetica,sans-serif; font-size:12; text-anchor:end;\" transform=\"rotate(0, 41.9701, 355.266)\" x=\"41.9701\" y=\"355.266\">0.0</text>\n",
       "</g>\n",
       "<g clip-path=\"url(#clip1000)\">\n",
       "<text style=\"fill:#000000; fill-opacity:1; font-family:Arial,Helvetica Neue,Helvetica,sans-serif; font-size:12; text-anchor:end;\" transform=\"rotate(0, 41.9701, 293.272)\" x=\"41.9701\" y=\"293.272\">0.1</text>\n",
       "</g>\n",
       "<g clip-path=\"url(#clip1000)\">\n",
       "<text style=\"fill:#000000; fill-opacity:1; font-family:Arial,Helvetica Neue,Helvetica,sans-serif; font-size:12; text-anchor:end;\" transform=\"rotate(0, 41.9701, 231.278)\" x=\"41.9701\" y=\"231.278\">0.2</text>\n",
       "</g>\n",
       "<g clip-path=\"url(#clip1000)\">\n",
       "<text style=\"fill:#000000; fill-opacity:1; font-family:Arial,Helvetica Neue,Helvetica,sans-serif; font-size:12; text-anchor:end;\" transform=\"rotate(0, 41.9701, 169.284)\" x=\"41.9701\" y=\"169.284\">0.3</text>\n",
       "</g>\n",
       "<g clip-path=\"url(#clip1000)\">\n",
       "<text style=\"fill:#000000; fill-opacity:1; font-family:Arial,Helvetica Neue,Helvetica,sans-serif; font-size:12; text-anchor:end;\" transform=\"rotate(0, 41.9701, 107.289)\" x=\"41.9701\" y=\"107.289\">0.4</text>\n",
       "</g>\n",
       "<g clip-path=\"url(#clip1000)\">\n",
       "<text style=\"fill:#000000; fill-opacity:1; font-family:Arial,Helvetica Neue,Helvetica,sans-serif; font-size:12; text-anchor:end;\" transform=\"rotate(0, 41.9701, 45.2952)\" x=\"41.9701\" y=\"45.2952\">0.5</text>\n",
       "</g>\n",
       "<g clip-path=\"url(#clip1000)\">\n",
       "<text style=\"fill:#000000; fill-opacity:1; font-family:Arial,Helvetica Neue,Helvetica,sans-serif; font-size:21; text-anchor:middle;\" transform=\"rotate(0, 314.143, 18)\" x=\"314.143\" y=\"18\">Absolute difference between erf(x) and I(x)</text>\n",
       "</g>\n",
       "<g clip-path=\"url(#clip1000)\">\n",
       "<text style=\"fill:#000000; fill-opacity:1; font-family:Arial,Helvetica Neue,Helvetica,sans-serif; font-size:16; text-anchor:middle;\" transform=\"rotate(0, 314.143, 397.6)\" x=\"314.143\" y=\"397.6\">x</text>\n",
       "</g>\n",
       "<g clip-path=\"url(#clip1000)\">\n",
       "<text style=\"fill:#000000; fill-opacity:1; font-family:Arial,Helvetica Neue,Helvetica,sans-serif; font-size:16; text-anchor:middle;\" transform=\"rotate(-90, 14.4, 195.781)\" x=\"14.4\" y=\"195.781\">Diff: integrated vs Base.erf</text>\n",
       "</g>\n",
       "<polyline clip-path=\"url(#clip1002)\" style=\"stroke:#009af9; stroke-width:1; stroke-opacity:1; fill:none\" points=\"\n",
       "  63.0365,350.766 83.0775,350.766 102.136,40.7952 120.798,40.7952 139.579,350.766 158.924,40.7952 179.516,40.7952 201.831,40.7952 224.02,40.7952 246.879,40.7952 \n",
       "  271,40.7952 297.012,40.7952 325.753,40.7952 358.584,40.7952 399.383,350.766 445.332,350.766 511.799,350.766 565.249,350.766 \n",
       "  \"/>\n",
       "<circle clip-path=\"url(#clip1002)\" style=\"fill:#000000; stroke:none; fill-opacity:1\" cx=\"63.0365\" cy=\"350.766\" r=\"3\"/>\n",
       "<circle clip-path=\"url(#clip1002)\" style=\"fill:#e26f46; stroke:none; fill-opacity:1\" cx=\"63.0365\" cy=\"350.766\" r=\"2\"/>\n",
       "<circle clip-path=\"url(#clip1002)\" style=\"fill:#000000; stroke:none; fill-opacity:1\" cx=\"83.0775\" cy=\"350.766\" r=\"3\"/>\n",
       "<circle clip-path=\"url(#clip1002)\" style=\"fill:#e26f46; stroke:none; fill-opacity:1\" cx=\"83.0775\" cy=\"350.766\" r=\"2\"/>\n",
       "<circle clip-path=\"url(#clip1002)\" style=\"fill:#000000; stroke:none; fill-opacity:1\" cx=\"102.136\" cy=\"40.7952\" r=\"3\"/>\n",
       "<circle clip-path=\"url(#clip1002)\" style=\"fill:#e26f46; stroke:none; fill-opacity:1\" cx=\"102.136\" cy=\"40.7952\" r=\"2\"/>\n",
       "<circle clip-path=\"url(#clip1002)\" style=\"fill:#000000; stroke:none; fill-opacity:1\" cx=\"120.798\" cy=\"40.7952\" r=\"3\"/>\n",
       "<circle clip-path=\"url(#clip1002)\" style=\"fill:#e26f46; stroke:none; fill-opacity:1\" cx=\"120.798\" cy=\"40.7952\" r=\"2\"/>\n",
       "<circle clip-path=\"url(#clip1002)\" style=\"fill:#000000; stroke:none; fill-opacity:1\" cx=\"139.579\" cy=\"350.766\" r=\"3\"/>\n",
       "<circle clip-path=\"url(#clip1002)\" style=\"fill:#e26f46; stroke:none; fill-opacity:1\" cx=\"139.579\" cy=\"350.766\" r=\"2\"/>\n",
       "<circle clip-path=\"url(#clip1002)\" style=\"fill:#000000; stroke:none; fill-opacity:1\" cx=\"158.924\" cy=\"40.7952\" r=\"3\"/>\n",
       "<circle clip-path=\"url(#clip1002)\" style=\"fill:#e26f46; stroke:none; fill-opacity:1\" cx=\"158.924\" cy=\"40.7952\" r=\"2\"/>\n",
       "<circle clip-path=\"url(#clip1002)\" style=\"fill:#000000; stroke:none; fill-opacity:1\" cx=\"179.516\" cy=\"40.7952\" r=\"3\"/>\n",
       "<circle clip-path=\"url(#clip1002)\" style=\"fill:#e26f46; stroke:none; fill-opacity:1\" cx=\"179.516\" cy=\"40.7952\" r=\"2\"/>\n",
       "<circle clip-path=\"url(#clip1002)\" style=\"fill:#000000; stroke:none; fill-opacity:1\" cx=\"201.831\" cy=\"40.7952\" r=\"3\"/>\n",
       "<circle clip-path=\"url(#clip1002)\" style=\"fill:#e26f46; stroke:none; fill-opacity:1\" cx=\"201.831\" cy=\"40.7952\" r=\"2\"/>\n",
       "<circle clip-path=\"url(#clip1002)\" style=\"fill:#000000; stroke:none; fill-opacity:1\" cx=\"224.02\" cy=\"40.7952\" r=\"3\"/>\n",
       "<circle clip-path=\"url(#clip1002)\" style=\"fill:#e26f46; stroke:none; fill-opacity:1\" cx=\"224.02\" cy=\"40.7952\" r=\"2\"/>\n",
       "<circle clip-path=\"url(#clip1002)\" style=\"fill:#000000; stroke:none; fill-opacity:1\" cx=\"246.879\" cy=\"40.7952\" r=\"3\"/>\n",
       "<circle clip-path=\"url(#clip1002)\" style=\"fill:#e26f46; stroke:none; fill-opacity:1\" cx=\"246.879\" cy=\"40.7952\" r=\"2\"/>\n",
       "<circle clip-path=\"url(#clip1002)\" style=\"fill:#000000; stroke:none; fill-opacity:1\" cx=\"271\" cy=\"40.7952\" r=\"3\"/>\n",
       "<circle clip-path=\"url(#clip1002)\" style=\"fill:#e26f46; stroke:none; fill-opacity:1\" cx=\"271\" cy=\"40.7952\" r=\"2\"/>\n",
       "<circle clip-path=\"url(#clip1002)\" style=\"fill:#000000; stroke:none; fill-opacity:1\" cx=\"297.012\" cy=\"40.7952\" r=\"3\"/>\n",
       "<circle clip-path=\"url(#clip1002)\" style=\"fill:#e26f46; stroke:none; fill-opacity:1\" cx=\"297.012\" cy=\"40.7952\" r=\"2\"/>\n",
       "<circle clip-path=\"url(#clip1002)\" style=\"fill:#000000; stroke:none; fill-opacity:1\" cx=\"325.753\" cy=\"40.7952\" r=\"3\"/>\n",
       "<circle clip-path=\"url(#clip1002)\" style=\"fill:#e26f46; stroke:none; fill-opacity:1\" cx=\"325.753\" cy=\"40.7952\" r=\"2\"/>\n",
       "<circle clip-path=\"url(#clip1002)\" style=\"fill:#000000; stroke:none; fill-opacity:1\" cx=\"358.584\" cy=\"40.7952\" r=\"3\"/>\n",
       "<circle clip-path=\"url(#clip1002)\" style=\"fill:#e26f46; stroke:none; fill-opacity:1\" cx=\"358.584\" cy=\"40.7952\" r=\"2\"/>\n",
       "<circle clip-path=\"url(#clip1002)\" style=\"fill:#000000; stroke:none; fill-opacity:1\" cx=\"399.383\" cy=\"350.766\" r=\"3\"/>\n",
       "<circle clip-path=\"url(#clip1002)\" style=\"fill:#e26f46; stroke:none; fill-opacity:1\" cx=\"399.383\" cy=\"350.766\" r=\"2\"/>\n",
       "<circle clip-path=\"url(#clip1002)\" style=\"fill:#000000; stroke:none; fill-opacity:1\" cx=\"445.332\" cy=\"350.766\" r=\"3\"/>\n",
       "<circle clip-path=\"url(#clip1002)\" style=\"fill:#e26f46; stroke:none; fill-opacity:1\" cx=\"445.332\" cy=\"350.766\" r=\"2\"/>\n",
       "<circle clip-path=\"url(#clip1002)\" style=\"fill:#000000; stroke:none; fill-opacity:1\" cx=\"511.799\" cy=\"350.766\" r=\"3\"/>\n",
       "<circle clip-path=\"url(#clip1002)\" style=\"fill:#e26f46; stroke:none; fill-opacity:1\" cx=\"511.799\" cy=\"350.766\" r=\"2\"/>\n",
       "<circle clip-path=\"url(#clip1002)\" style=\"fill:#000000; stroke:none; fill-opacity:1\" cx=\"565.249\" cy=\"350.766\" r=\"3\"/>\n",
       "<circle clip-path=\"url(#clip1002)\" style=\"fill:#e26f46; stroke:none; fill-opacity:1\" cx=\"565.249\" cy=\"350.766\" r=\"2\"/>\n",
       "<polygon clip-path=\"url(#clip1000)\" points=\"\n",
       "489.799,97.7361 562.315,97.7361 562.315,52.3761 489.799,52.3761 \n",
       "  \" fill=\"#ffffff\" fill-opacity=\"1\"/>\n",
       "<polyline clip-path=\"url(#clip1000)\" style=\"stroke:#000000; stroke-width:1; stroke-opacity:1; fill:none\" points=\"\n",
       "  489.799,97.7361 562.315,97.7361 562.315,52.3761 489.799,52.3761 489.799,97.7361 \n",
       "  \"/>\n",
       "<polyline clip-path=\"url(#clip1000)\" style=\"stroke:#009af9; stroke-width:1; stroke-opacity:1; fill:none\" points=\"\n",
       "  495.799,67.4961 531.799,67.4961 \n",
       "  \"/>\n",
       "<g clip-path=\"url(#clip1000)\">\n",
       "<text style=\"fill:#000000; fill-opacity:1; font-family:Arial,Helvetica Neue,Helvetica,sans-serif; font-size:12; text-anchor:start;\" transform=\"rotate(0, 537.799, 71.9961)\" x=\"537.799\" y=\"71.9961\">y1</text>\n",
       "</g>\n",
       "<circle clip-path=\"url(#clip1000)\" style=\"fill:#000000; stroke:none; fill-opacity:1\" cx=\"516.799\" cy=\"82.6161\" r=\"6\"/>\n",
       "<circle clip-path=\"url(#clip1000)\" style=\"fill:#e26f46; stroke:none; fill-opacity:1\" cx=\"516.799\" cy=\"82.6161\" r=\"5\"/>\n",
       "<g clip-path=\"url(#clip1000)\">\n",
       "<text style=\"fill:#000000; fill-opacity:1; font-family:Arial,Helvetica Neue,Helvetica,sans-serif; font-size:12; text-anchor:start;\" transform=\"rotate(0, 537.799, 87.1161)\" x=\"537.799\" y=\"87.1161\">y2</text>\n",
       "</g>\n",
       "</svg>\n"
      ]
     },
     "execution_count": 14,
     "metadata": {},
     "output_type": "execute_result"
    }
   ],
   "source": [
    "plot(\n",
    "\n",
    "xv, (erfv-erf.(xv))/eps(),\n",
    "xaxis = \"x\",\n",
    "yaxis = \"Diff: integrated vs Base.erf\",\n",
    "title = \"Absolute difference between erf(x) and I(x)\"\n",
    "\n",
    ")\n",
    "\n",
    "scatter!(xv, (erfv-erf.(xv))/eps(), ms=3.0)"
   ]
  },
  {
   "cell_type": "markdown",
   "metadata": {},
   "source": [
    "### The error is at most half times `eps()` at each time step!!!!"
   ]
  },
  {
   "cell_type": "markdown",
   "metadata": {
    "collapsed": true
   },
   "source": [
    "## Evaluating elliptic integrals with `BigFloats`"
   ]
  },
  {
   "cell_type": "markdown",
   "metadata": {},
   "source": [
    "In this section, we will evaluate the elliptic integral $K$ using `BigFloats`, up to an accuracy of about $10^{-77}$ (!)"
   ]
  },
  {
   "cell_type": "code",
   "execution_count": 16,
   "metadata": {},
   "outputs": [],
   "source": [
    "# work in progress..."
   ]
  },
  {
   "cell_type": "code",
   "execution_count": null,
   "metadata": {
    "collapsed": true
   },
   "outputs": [],
   "source": []
  }
 ],
 "metadata": {
  "kernelspec": {
   "display_name": "Julia 0.6.1-pre",
   "language": "julia",
   "name": "julia-0.6"
  },
  "language_info": {
   "file_extension": ".jl",
   "mimetype": "application/julia",
   "name": "julia",
   "version": "0.6.1"
  }
 },
 "nbformat": 4,
 "nbformat_minor": 1
}
